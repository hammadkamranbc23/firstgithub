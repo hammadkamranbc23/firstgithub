{
 "cells": [
  {
   "cell_type": "markdown",
   "id": "6437286f",
   "metadata": {},
   "source": [
    "# Python ka Chilla with #baba_aamar\n",
    "## how to use jupyter Note Book\n",
    "## Basics of python\n",
    "### **01- My first program**\n",
    "\n"
   ]
  },
  {
   "cell_type": "code",
   "execution_count": 1,
   "id": "768da7c9",
   "metadata": {},
   "outputs": [
    {
     "name": "stdout",
     "output_type": "stream",
     "text": [
      "5\n",
      "Hello World\n",
      "We are learning Python with Hammad\n"
     ]
    }
   ],
   "source": [
    "print(2+3)\n",
    "print(\"Hello World\")\n",
    "print(\"We are learning Python with Hammad\")"
   ]
  },
  {
   "cell_type": "markdown",
   "id": "18dfbbe9",
   "metadata": {},
   "source": [
    "#### **02- operators**"
   ]
  },
  {
   "cell_type": "code",
   "execution_count": 2,
   "id": "33cd795b",
   "metadata": {},
   "outputs": [
    {
     "name": "stdout",
     "output_type": "stream",
     "text": [
      "3\n",
      "2\n",
      "3.0\n",
      "6\n",
      "1\n",
      "3\n",
      "8\n",
      "6.5\n"
     ]
    }
   ],
   "source": [
    "print(2+1)\n",
    "print(3-1)\n",
    "print(6/2)\n",
    "print(2*3)\n",
    "print(13%2)\n",
    "print(6//2)\n",
    "print(2**3)\n",
    "\n",
    "print(3**2/2*3/3+6-4)"
   ]
  },
  {
   "cell_type": "markdown",
   "id": "b13b5615",
   "metadata": {},
   "source": [
    "*PEMDAS Parenthesis Exponents Multiply Divide Addition Substraction left to right sequence for M D & A S*"
   ]
  },
  {
   "cell_type": "markdown",
   "id": "3d95b367",
   "metadata": {},
   "source": [
    "### **03-strings**"
   ]
  },
  {
   "cell_type": "code",
   "execution_count": 3,
   "id": "7627f38a",
   "metadata": {},
   "outputs": [
    {
     "name": "stdout",
     "output_type": "stream",
     "text": [
      "Hello World\n",
      "We are learning Python with Hammad\n",
      "Test for single quotes\n",
      "test for double quotes\n",
      "test for triple quotes\n",
      "What's up\n"
     ]
    }
   ],
   "source": [
    "print(\"Hello World\")\n",
    "print(\"We are learning Python with Hammad\")\n",
    "print('Test for single quotes')\n",
    "print(\"test for double quotes\")\n",
    "print('''test for triple quotes''')\n",
    "print(\"What's up\")"
   ]
  },
  {
   "cell_type": "markdown",
   "id": "2af64c16",
   "metadata": {},
   "source": [
    "### **04- comments**\n",
    "The shorcut key to comments is **ctrl+/**"
   ]
  },
  {
   "cell_type": "code",
   "execution_count": 4,
   "id": "b82e1aa3",
   "metadata": {
    "scrolled": true
   },
   "outputs": [
    {
     "name": "stdout",
     "output_type": "stream",
     "text": [
      "How are you?\n",
      "We are learning python with Hammad\n",
      "8\n"
     ]
    }
   ],
   "source": [
    "print(\"How are you?\")  #press these to comment out (ctrl+/)\n",
    "print(\"We are learning python with Hammad\") #print a string\n",
    "\n",
    "print(2+6) #print operators function with numbers\n"
   ]
  },
  {
   "cell_type": "markdown",
   "id": "626e9476",
   "metadata": {},
   "source": [
    "### **05- variables**"
   ]
  },
  {
   "cell_type": "code",
   "execution_count": 5,
   "id": "e2388405",
   "metadata": {},
   "outputs": [
    {
     "name": "stdout",
     "output_type": "stream",
     "text": [
      "5\n",
      "We are learning Python with Hammad\n",
      "15\n",
      "<class 'int'>\n",
      "<class 'str'>\n",
      "<class 'str'>\n",
      "Mangoes\n"
     ]
    }
   ],
   "source": [
    "# Variables: objects containing specific values\n",
    "x = 5 #numeric or integer variable\n",
    "print(x)\n",
    "\n",
    "y=\"We are learning Python with Hammad\" #string variable\n",
    "print(y)\n",
    "\n",
    "x= x+10 #or x=15\n",
    "print(x)\n",
    "\n",
    "\n",
    "#types/class of variables\n",
    "type(x)\n",
    "print(type(x))\n",
    "\n",
    "print(type(y))\n",
    "\n",
    "#print_type_class\n",
    "\n",
    "#Rules to assign a variable:\n",
    "# 1 - The variable should contain letters, numbers or underscores\n",
    "# 2 - Do not start with numbers\n",
    "# 3 - Spaces are not allowed\n",
    "# 4 - Do not used keywords used in functions (break, mean, media, test etc.)\n",
    "# 5 - Short and descriptive\n",
    "# 6 - Case senstivity (Lowercase, uppercase letters lower case letters should be used)\n",
    "\n",
    "\n",
    "fruit_basket= 8\n",
    "fruit_basket= \"Mangoes\"       \n",
    "print(type(fruit_basket))\n",
    "print(fruit_basket)"
   ]
  },
  {
   "cell_type": "markdown",
   "id": "96d62b20",
   "metadata": {},
   "source": [
    "### **06-input-variables**"
   ]
  },
  {
   "cell_type": "code",
   "execution_count": 6,
   "id": "cb8884ac",
   "metadata": {},
   "outputs": [
    {
     "name": "stdout",
     "output_type": "stream",
     "text": [
      "What is your name? Hammad\n",
      "Who old are you 20\n",
      "Hello! Hammad , You are still young\n"
     ]
    }
   ],
   "source": [
    "# fruit_basket=\"Mangoes\"\n",
    "# print(fruit_basket)\n",
    "\n",
    "#input function simple\n",
    "# fruit_basket=input(\"What is your favourite fruit?\")\n",
    "# print(fruit_basket)\n",
    "\n",
    "#input function of 2nd stage\n",
    "# name= input(\"What is your name? \")\n",
    "# greetings=\"Hello!\"\n",
    "# print(greetings, name)\n",
    "\n",
    "#another way of stage 2 input function\n",
    "# name= input(\"What is your name? \")\n",
    "# print(\"Hello!\", name)\n",
    "\n",
    "#3rd stage input function\n",
    "name=input(\"What is your name? \")\n",
    "age=input(\"Who old are you \")\n",
    "greeting=\"Hello!\"\n",
    "\n",
    "print(greeting, name, \", You are still young\")\n",
    "#input_Hammad_You are still young"
   ]
  },
  {
   "cell_type": "markdown",
   "id": "709bd1c0",
   "metadata": {},
   "source": [
    "### **07-conditional_logics**"
   ]
  },
  {
   "cell_type": "code",
   "execution_count": 7,
   "id": "52035d27",
   "metadata": {
    "scrolled": true
   },
   "outputs": [
    {
     "name": "stdout",
     "output_type": "stream",
     "text": [
      "How old is hammad? 2\n",
      "<class 'int'>\n",
      "False\n"
     ]
    }
   ],
   "source": [
    "# logical operators are either \"true or false\" or \"yes or no\" or \"0 or 1\"\n",
    "# equal to                      ==\n",
    "# not equal to                  !=\n",
    "# less than                     <\n",
    "# greater than                  >\n",
    "# less than and equal to        <=\n",
    "# greater than and equal to     >=\n",
    "\n",
    "# is 4 equal to 4?\n",
    "# print(4==4)\n",
    "# print(4!=4)\n",
    "# print(3<6)\n",
    "# print(6>3)\n",
    "# print(2<=5)\n",
    "# print(5>=4)\n",
    "\n",
    "# application of logical operators\n",
    "# hammad_age=4\n",
    "# age_at_school=5\n",
    "# print(hammad_age==age_at_school)\n",
    "\n",
    "#input function and logical operator\n",
    "age_at_school=5\n",
    "hammad_age=input(\"How old is hammad? \") #input function\n",
    "hammad_age=int(hammad_age)\n",
    "print(type(hammad_age))\n",
    "print(hammad_age==age_at_school)\n",
    "\n",
    "#convert input\n",
    "\n",
    "\n"
   ]
  },
  {
   "cell_type": "markdown",
   "id": "38eeaa0e",
   "metadata": {},
   "source": [
    "### **08-type_conversion**"
   ]
  },
  {
   "cell_type": "code",
   "execution_count": 8,
   "id": "12783cbb",
   "metadata": {},
   "outputs": [
    {
     "name": "stdout",
     "output_type": "stream",
     "text": [
      "What is your name? Hammad\n",
      "Hammad <class 'str'>\n"
     ]
    }
   ],
   "source": [
    "#explicit type converion\n",
    "# age=input(\"What is your age? \")\n",
    "# # age=int(age)\n",
    "# print(age, type(int(age)))\n",
    "\n",
    "#name\n",
    "name=input(\"What is your name? \")\n",
    "print(name, type(str(name)))\n",
    "\n",
    "#type_conversion"
   ]
  },
  {
   "cell_type": "markdown",
   "id": "d065547a",
   "metadata": {},
   "source": [
    "### **09-if_else_elif**"
   ]
  },
  {
   "cell_type": "code",
   "execution_count": 9,
   "id": "1b4761fd",
   "metadata": {},
   "outputs": [
    {
     "name": "stdout",
     "output_type": "stream",
     "text": [
      "You should take care of Hammad, he is still a baby!\n"
     ]
    }
   ],
   "source": [
    "hammad_age= 2\n",
    "required_age_at_school=5\n",
    "#question: can hammad go to school?\n",
    "\n",
    "if hammad_age==required_age_at_school:\n",
    "    print(\"Congratulations! Hammad can join the school\")\n",
    "elif hammad_age > required_age_at_school:\n",
    "    print(\"Hammad should join higher secondary school\")\n",
    "elif hammad_age <= 2:\n",
    "    print(\"You should take care of Hammad, he is still a baby!\")\n",
    "else:\n",
    "    print(\"Hammad can not go to school\")\n",
    "\n",
    "    # if, elif, else statement clear."
   ]
  },
  {
   "cell_type": "markdown",
   "id": "743e1282",
   "metadata": {},
   "source": [
    "### **10-functions**"
   ]
  },
  {
   "cell_type": "code",
   "execution_count": 10,
   "id": "7577a126",
   "metadata": {},
   "outputs": [
    {
     "name": "stdout",
     "output_type": "stream",
     "text": [
      "38\n"
     ]
    }
   ],
   "source": [
    "# defining a functions\n",
    "# 1\n",
    "\n",
    "\n",
    "\n",
    "# def print_codanics():\n",
    "#      print(\"We are learning with Hammad\")\n",
    "#      print(\"We are learning with Hammad\")\n",
    "#      print(\"We are learning with Hammad\")\n",
    "\n",
    "#  print_codanics()\n",
    "\n",
    "# 2\n",
    "# def print_codanics():\n",
    "#     text = \"We are learning with Hammad in codanics youtube channel\"\n",
    "#     print(text)\n",
    "#     print(text)\n",
    "#     print(text)\n",
    "# print_codanics()\n",
    "\n",
    "# 3\n",
    "# def print_condanics(text):\n",
    "#     print(text)\n",
    "#     print(text)\n",
    "#     print(text)\n",
    "\n",
    "# print_condanics(\"We are learning python with Hammad in condanics youtube channel\")    \n",
    "\n",
    "\n",
    "# defining a function with if, elif and else statements\n",
    "\n",
    "# def school_calculator(age):\n",
    "#     if age==5:\n",
    "#         print(\"Hammad can join the school\")\n",
    "#     elif age>5:\n",
    "#         print(\"Hammad should go to higher school\")\n",
    "#     else:\n",
    "#         print(\"Hammad is still a baby\")\n",
    "\n",
    "# school_calculator(2)\n",
    "\n",
    "\n",
    "# defining a function of future\n",
    "\n",
    "def future_age(age):\n",
    "    new_age=age+20\n",
    "    return new_age\n",
    "    print(new_age)\n",
    "\n",
    "future_predicted_age= future_age(18)\n",
    "print(future_predicted_age)\n",
    "\n",
    "# i understand functions really well."
   ]
  },
  {
   "cell_type": "markdown",
   "id": "62848604",
   "metadata": {},
   "source": [
    "### **11-loops**"
   ]
  },
  {
   "cell_type": "code",
   "execution_count": 11,
   "id": "bcbcbbd9",
   "metadata": {},
   "outputs": [
    {
     "name": "stdout",
     "output_type": "stream",
     "text": [
      "Mon\n",
      "Tue\n",
      "Wed\n",
      "Thu\n",
      "Sat\n",
      "Sun\n"
     ]
    }
   ],
   "source": [
    "#while and for loops\n",
    "\n",
    "#while loops\n",
    "# x=0\n",
    "# while (x<=5):\n",
    "#     print(x)\n",
    "#     x=x+1\n",
    "\n",
    "#for loop\n",
    "\n",
    "# for x in range(4,11):\n",
    "#     print(x)\n",
    "# array\n",
    "days = [\"Mon\", \"Tue\", \"Wed\", \"Thu\", \"Fri\", \"Sat\", \"Sun\"]\n",
    "\n",
    "for d in days:\n",
    "    # if (d==\"Fri\"):break #loop stops\n",
    "    if (d==\"Fri\"): continue #Skips d\n",
    "    print(d)"
   ]
  },
  {
   "cell_type": "markdown",
   "id": "ad341caf",
   "metadata": {},
   "source": [
    "### **12-import_libraries**"
   ]
  },
  {
   "cell_type": "code",
   "execution_count": 12,
   "id": "c555ade4",
   "metadata": {
    "scrolled": true
   },
   "outputs": [
    {
     "name": "stdout",
     "output_type": "stream",
     "text": [
      "The value of pi is 3.141592653589793\n",
      "300\n"
     ]
    }
   ],
   "source": [
    "#if you want to print the value of pi\n",
    "\n",
    "import math\n",
    "print(\"The value of pi is\", math.pi)\n",
    "\n",
    "import statistics\n",
    "x=[150,250,350,450]\n",
    "print(statistics.mean(x))\n",
    "\n",
    "# numpy, pandas"
   ]
  },
  {
   "cell_type": "markdown",
   "id": "d21ad99a",
   "metadata": {},
   "source": [
    "### **13-trouble_shooting**"
   ]
  },
  {
   "cell_type": "code",
   "execution_count": 13,
   "id": "2e002d09",
   "metadata": {},
   "outputs": [
    {
     "name": "stdout",
     "output_type": "stream",
     "text": [
      "Hello Hammad\n"
     ]
    }
   ],
   "source": [
    "# print(\"We are learning python with Hammad\") #Syntax error\n",
    "\n",
    "# print(25/0) #runtime error\n",
    "\n",
    "\n",
    "name= \"Hammad\"\n",
    "\n",
    "print(\"Hello\", name)\n",
    "\n",
    "#trouble shooting is easy"
   ]
  }
 ],
 "metadata": {
  "kernelspec": {
   "display_name": "Python 3 (ipykernel)",
   "language": "python",
   "name": "python3"
  },
  "language_info": {
   "codemirror_mode": {
    "name": "ipython",
    "version": 3
   },
   "file_extension": ".py",
   "mimetype": "text/x-python",
   "name": "python",
   "nbconvert_exporter": "python",
   "pygments_lexer": "ipython3",
   "version": "3.9.13"
  }
 },
 "nbformat": 4,
 "nbformat_minor": 5
}
