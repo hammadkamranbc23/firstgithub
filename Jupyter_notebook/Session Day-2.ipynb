{
 "cells": [
  {
   "cell_type": "code",
   "execution_count": 1,
   "id": "68b6c6b8",
   "metadata": {},
   "outputs": [],
   "source": [
    "# body mass index (BMI)\n",
    "# input Weight\n",
    "# Height\n",
    "# BMI (Ask yourself your height)\n",
    "# Weight\n",
    "# Calculate BMI\n",
    "# print BMI (My name is_____, My BMI is -----)"
   ]
  },
  {
   "cell_type": "code",
   "execution_count": 2,
   "id": "d7327e16",
   "metadata": {},
   "outputs": [],
   "source": [
    "# weight in Kg/height in m and its square"
   ]
  },
  {
   "cell_type": "code",
   "execution_count": null,
   "id": "15eabeab",
   "metadata": {},
   "outputs": [],
   "source": [
    "height = input(\"WHat is your height? \")"
   ]
  },
  {
   "cell_type": "code",
   "execution_count": null,
   "id": "63937f70",
   "metadata": {},
   "outputs": [],
   "source": [
    "height = float(height)"
   ]
  },
  {
   "cell_type": "code",
   "execution_count": null,
   "id": "3c9343f1",
   "metadata": {},
   "outputs": [],
   "source": [
    "weight = input(\"What is your weight? \")"
   ]
  },
  {
   "cell_type": "code",
   "execution_count": null,
   "id": "5a1cd39a",
   "metadata": {},
   "outputs": [],
   "source": [
    "weight = float(weight)"
   ]
  },
  {
   "cell_type": "code",
   "execution_count": null,
   "id": "67521d17",
   "metadata": {},
   "outputs": [],
   "source": [
    "name = input(\"What is your name? \")"
   ]
  },
  {
   "cell_type": "code",
   "execution_count": null,
   "id": "90894a03",
   "metadata": {},
   "outputs": [],
   "source": [
    "BMI = weight/height**2\n",
    "BMI"
   ]
  },
  {
   "cell_type": "code",
   "execution_count": null,
   "id": "a6f4d431",
   "metadata": {},
   "outputs": [],
   "source": [
    "print(\"My name is\", name, \"and My BMI is\", BMI)"
   ]
  },
  {
   "cell_type": "code",
   "execution_count": null,
   "id": "265bab2f",
   "metadata": {},
   "outputs": [],
   "source": []
  }
 ],
 "metadata": {
  "kernelspec": {
   "display_name": "Python 3 (ipykernel)",
   "language": "python",
   "name": "python3"
  },
  "language_info": {
   "codemirror_mode": {
    "name": "ipython",
    "version": 3
   },
   "file_extension": ".py",
   "mimetype": "text/x-python",
   "name": "python",
   "nbconvert_exporter": "python",
   "pygments_lexer": "ipython3",
   "version": "3.9.13"
  }
 },
 "nbformat": 4,
 "nbformat_minor": 5
}
